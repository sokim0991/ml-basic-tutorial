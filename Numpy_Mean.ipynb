{
  "nbformat": 4,
  "nbformat_minor": 0,
  "metadata": {
    "colab": {
      "name": "Numpy - Mean.ipynb",
      "provenance": [],
      "collapsed_sections": [],
      "authorship_tag": "ABX9TyM3zhzDgZHw0JrGWeVs84hK",
      "include_colab_link": true
    },
    "kernelspec": {
      "name": "python3",
      "display_name": "Python 3"
    }
  },
  "cells": [
    {
      "cell_type": "markdown",
      "metadata": {
        "id": "view-in-github",
        "colab_type": "text"
      },
      "source": [
        "<a href=\"https://colab.research.google.com/github/sokim0991/ml-basic-tutorial/blob/main/Numpy_Mean.ipynb\" target=\"_parent\"><img src=\"https://colab.research.google.com/assets/colab-badge.svg\" alt=\"Open In Colab\"/></a>"
      ]
    },
    {
      "cell_type": "code",
      "metadata": {
        "colab": {
          "base_uri": "https://localhost:8080/"
        },
        "id": "GTCNJDJ0jXkc",
        "outputId": "9a34aa9c-8203-473f-c0c2-632357807044"
      },
      "source": [
        "import numpy as np\n",
        "#numpy.mean 함수는 지정된 축을 따라 산술 평균을 계산합니다.\n",
        "\n",
        "a = np.array([[1, 2], [3, 4]])\n",
        "\n",
        "#어레이 a의 요소 1, 2, 3, 4의 산술 평균 2.5를 반환합니다.\n",
        "print(np.mean(a))"
      ],
      "execution_count": 1,
      "outputs": [
        {
          "output_type": "stream",
          "text": [
            "2.5\n"
          ],
          "name": "stdout"
        }
      ]
    },
    {
      "cell_type": "code",
      "metadata": {
        "colab": {
          "base_uri": "https://localhost:8080/"
        },
        "id": "iPI1GzxTjsez",
        "outputId": "a4513077-2860-4bfe-dc65-b7a59b5bf828"
      },
      "source": [
        "a = np.array([[1, 2], [3, 4]])\n",
        "\n",
        "\n",
        "#axis=0으로 지정하면 1과 3, 2와 4의 평균인 [2. 3.]을 반환합니다.\n",
        "print(np.mean(a, axis=0))\n",
        "\n",
        "##axis=1으로 지정하면 1과 2, 3와 4의 평균인 [1.5 3.5]를 반환합니다.\n",
        "print(np.mean(a, axis=1))"
      ],
      "execution_count": 2,
      "outputs": [
        {
          "output_type": "stream",
          "text": [
            "[2. 3.]\n",
            "[1.5 3.5]\n"
          ],
          "name": "stdout"
        }
      ]
    }
  ]
}
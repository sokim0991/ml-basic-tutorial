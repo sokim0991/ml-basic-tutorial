{
  "nbformat": 4,
  "nbformat_minor": 0,
  "metadata": {
    "colab": {
      "name": "NumPy- np.sum_axis.ipynb",
      "provenance": [],
      "authorship_tag": "ABX9TyO6fK5D44Wi6RQV/h37PqMZ",
      "include_colab_link": true
    },
    "kernelspec": {
      "name": "python3",
      "display_name": "Python 3"
    }
  },
  "cells": [
    {
      "cell_type": "markdown",
      "metadata": {
        "id": "view-in-github",
        "colab_type": "text"
      },
      "source": [
        "<a href=\"https://colab.research.google.com/github/sokim0991/ml-basic-tutorial/blob/main/NumPy_np_sum_axis.ipynb\" target=\"_parent\"><img src=\"https://colab.research.google.com/assets/colab-badge.svg\" alt=\"Open In Colab\"/></a>"
      ]
    },
    {
      "cell_type": "code",
      "metadata": {
        "id": "oVJXP7ABTTMW"
      },
      "source": [
        "import numpy as np\r\n",
        "#reshape(2,3,4)는\r\n",
        "#가장 바깥쪽 괄호안에 2개의 원소가 존재하며\r\n",
        "#중간 괄호 안에는 3개의 원소가 존재하고\r\n",
        "#가장 안쪽 괄호안에는 4개의 원소가 존재한다는 의미입니다.\r\n",
        "a = np.arange(24).reshape(2,3,4)"
      ],
      "execution_count": 1,
      "outputs": []
    },
    {
      "cell_type": "code",
      "metadata": {
        "colab": {
          "base_uri": "https://localhost:8080/"
        },
        "id": "2fXwcvJoT4SU",
        "outputId": "5a2adccd-1bd3-41f7-d9df-42ea700382e6"
      },
      "source": [
        "a"
      ],
      "execution_count": 2,
      "outputs": [
        {
          "output_type": "execute_result",
          "data": {
            "text/plain": [
              "array([[[ 0,  1,  2,  3],\n",
              "        [ 4,  5,  6,  7],\n",
              "        [ 8,  9, 10, 11]],\n",
              "\n",
              "       [[12, 13, 14, 15],\n",
              "        [16, 17, 18, 19],\n",
              "        [20, 21, 22, 23]]])"
            ]
          },
          "metadata": {
            "tags": []
          },
          "execution_count": 2
        }
      ]
    },
    {
      "cell_type": "code",
      "metadata": {
        "colab": {
          "base_uri": "https://localhost:8080/"
        },
        "id": "aPZMfhqPUSko",
        "outputId": "f66e3859-248d-4b07-aac3-af72d6f6840f"
      },
      "source": [
        "#axis를 명시하지 않으면 배열에 속하는 모든 원소에 대한 합을 구합니다. \r\n",
        "np.sum(a)"
      ],
      "execution_count": 3,
      "outputs": [
        {
          "output_type": "execute_result",
          "data": {
            "text/plain": [
              "276"
            ]
          },
          "metadata": {
            "tags": []
          },
          "execution_count": 3
        }
      ]
    },
    {
      "cell_type": "code",
      "metadata": {
        "colab": {
          "base_uri": "https://localhost:8080/"
        },
        "id": "bMmirINaUZSR",
        "outputId": "49616192-01c5-451e-9d80-9a7f70cfb006"
      },
      "source": [
        "#axis=0이면 첫번째 괄호가 사라졌을 때 남은 2차원 원소가 하나로 더해집니다.\r\n",
        "#2차원 배열의 대응하는 원소끼리 더하면 됩니다.\r\n",
        "np.sum(a, axis=0)\r\n",
        "#0+12=12, 1+13=14..."
      ],
      "execution_count": 6,
      "outputs": [
        {
          "output_type": "execute_result",
          "data": {
            "text/plain": [
              "array([[12, 14, 16, 18],\n",
              "       [20, 22, 24, 26],\n",
              "       [28, 30, 32, 34]])"
            ]
          },
          "metadata": {
            "tags": []
          },
          "execution_count": 6
        }
      ]
    },
    {
      "cell_type": "code",
      "metadata": {
        "colab": {
          "base_uri": "https://localhost:8080/"
        },
        "id": "Qr_3d3-dUr1X",
        "outputId": "be077de5-703c-458e-ac63-e67393659688"
      },
      "source": [
        "#axis=1이면 두번째 괄호가 사라지면서 남는 1차원 원소가 하나로 더해집니다. \r\n",
        "#예제에선 위에 3개의 1차원 배열의 대응하는 원소끼리 더해서 하나의 1차원 배열이 되고 \r\n",
        "#아래에 3개의 1차원 배열의 대응하는 원소끼리 더해서 하나의 1차원 배열이 됩니다. \r\n",
        "np.sum(a, axis=1)\r\n",
        "#0+4+8=12, 1+5+9=15..."
      ],
      "execution_count": 7,
      "outputs": [
        {
          "output_type": "execute_result",
          "data": {
            "text/plain": [
              "array([[12, 15, 18, 21],\n",
              "       [48, 51, 54, 57]])"
            ]
          },
          "metadata": {
            "tags": []
          },
          "execution_count": 7
        }
      ]
    },
    {
      "cell_type": "code",
      "metadata": {
        "colab": {
          "base_uri": "https://localhost:8080/"
        },
        "id": "AjIjFJ-fVVty",
        "outputId": "998066e6-79a9-4198-fcd2-a748c05dbda0"
      },
      "source": [
        "#axis=2이면 3번째 괄호가 사라지면서 남는 스칼라 원소가 하나로 더해집니다. \r\n",
        "np.sum(a, axis=2)\r\n",
        "#0+1+2+3=6, 4+5+6+7=22..."
      ],
      "execution_count": 8,
      "outputs": [
        {
          "output_type": "execute_result",
          "data": {
            "text/plain": [
              "array([[ 6, 22, 38],\n",
              "       [54, 70, 86]])"
            ]
          },
          "metadata": {
            "tags": []
          },
          "execution_count": 8
        }
      ]
    },
    {
      "cell_type": "code",
      "metadata": {
        "colab": {
          "base_uri": "https://localhost:8080/"
        },
        "id": "xnB-mqJJVsO5",
        "outputId": "2418dda3-e6a1-48b0-8feb-e29f961e5139"
      },
      "source": [
        "#axis=(0,1)이면 첫번째, 두번째 괄호가 사라지면서 남는 1차원 배열의 대응하는 원소끼리 더해집니다. \r\n",
        "np.sum(a, axis=(0,1))\r\n",
        "#0+4+8+12+16+20 = 60"
      ],
      "execution_count": 9,
      "outputs": [
        {
          "output_type": "execute_result",
          "data": {
            "text/plain": [
              "array([60, 66, 72, 78])"
            ]
          },
          "metadata": {
            "tags": []
          },
          "execution_count": 9
        }
      ]
    },
    {
      "cell_type": "code",
      "metadata": {
        "colab": {
          "base_uri": "https://localhost:8080/"
        },
        "id": "_0EdQ7X7V6vH",
        "outputId": "02a598ee-26fa-4ac5-a089-9915efd1a368"
      },
      "source": [
        "#axis = (1,2)이면 두번째, 세번째 괄호가 사라지면서 남는 스칼라가 모두 더해집니다. \r\n",
        "np.sum(a, axis=(1,2))\r\n",
        "#sum(0,  1,  2,  3, 4,  5,  6,  7, 8,  9, 10, 11) = 66..."
      ],
      "execution_count": 10,
      "outputs": [
        {
          "output_type": "execute_result",
          "data": {
            "text/plain": [
              "array([ 66, 210])"
            ]
          },
          "metadata": {
            "tags": []
          },
          "execution_count": 10
        }
      ]
    }
  ]
}
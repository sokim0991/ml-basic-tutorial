{
  "nbformat": 4,
  "nbformat_minor": 0,
  "metadata": {
    "colab": {
      "name": "Numpy - Reshape.ipynb",
      "provenance": [],
      "authorship_tag": "ABX9TyNMR74kE/xrGcPrXUYtL6ko",
      "include_colab_link": true
    },
    "kernelspec": {
      "name": "python3",
      "display_name": "Python 3"
    }
  },
  "cells": [
    {
      "cell_type": "markdown",
      "metadata": {
        "id": "view-in-github",
        "colab_type": "text"
      },
      "source": [
        "<a href=\"https://colab.research.google.com/github/sokim0991/ml-basic-tutorial/blob/main/Numpy_Reshape.ipynb\" target=\"_parent\"><img src=\"https://colab.research.google.com/assets/colab-badge.svg\" alt=\"Open In Colab\"/></a>"
      ]
    },
    {
      "cell_type": "markdown",
      "metadata": {
        "id": "eq2ghHc3q95H"
      },
      "source": [
        "# **1. 배열과 차원을 변형해주는 reshape**"
      ]
    },
    {
      "cell_type": "markdown",
      "metadata": {
        "id": "-CJK2ebqq0mi"
      },
      "source": [
        "## **1-1. 1차원과 2차원 변환**"
      ]
    },
    {
      "cell_type": "code",
      "metadata": {
        "id": "KuxnTlWOpgzH"
      },
      "source": [
        "import numpy as np\r\n",
        "a = [1,2,3,4,5,6,7,8]\r\n",
        "\r\n",
        "#np.reshape(변경할 배열, 차원)\r\n",
        "b = np.reshape(a,(2,4))\r\n",
        "c = np.reshape(a,(4,2))"
      ],
      "execution_count": 1,
      "outputs": []
    },
    {
      "cell_type": "code",
      "metadata": {
        "colab": {
          "base_uri": "https://localhost:8080/"
        },
        "id": "D0287C5JqaN9",
        "outputId": "5fe651a6-e939-4b6b-d638-ddc3415f3830"
      },
      "source": [
        "#배열.reshape(차원)\r\n",
        "print(a.reshape(2,4))"
      ],
      "execution_count": 8,
      "outputs": [
        {
          "output_type": "stream",
          "text": [
            "[[1 2 3 4]\n",
            " [5 6 7 8]]\n"
          ],
          "name": "stdout"
        }
      ]
    },
    {
      "cell_type": "code",
      "metadata": {
        "colab": {
          "base_uri": "https://localhost:8080/"
        },
        "id": "hIc4kyHepxUu",
        "outputId": "20410c8e-ab6c-4a57-9de8-e4905f692fd8"
      },
      "source": [
        "print(b)"
      ],
      "execution_count": 2,
      "outputs": [
        {
          "output_type": "stream",
          "text": [
            "[[1 2 3 4]\n",
            " [5 6 7 8]]\n"
          ],
          "name": "stdout"
        }
      ]
    },
    {
      "cell_type": "code",
      "metadata": {
        "colab": {
          "base_uri": "https://localhost:8080/"
        },
        "id": "LS1NHVUop2NZ",
        "outputId": "fabb0e67-bc25-4646-a174-c858deb625dd"
      },
      "source": [
        "print(c)"
      ],
      "execution_count": 3,
      "outputs": [
        {
          "output_type": "stream",
          "text": [
            "[[1 2]\n",
            " [3 4]\n",
            " [5 6]\n",
            " [7 8]]\n"
          ],
          "name": "stdout"
        }
      ]
    },
    {
      "cell_type": "markdown",
      "metadata": {
        "id": "84VtyeNfrIok"
      },
      "source": [
        "## **1-2. 3차원 변환**"
      ]
    },
    {
      "cell_type": "code",
      "metadata": {
        "id": "HUDJ067rp_MN"
      },
      "source": [
        "a = np.arange(1,9)"
      ],
      "execution_count": 4,
      "outputs": []
    },
    {
      "cell_type": "code",
      "metadata": {
        "colab": {
          "base_uri": "https://localhost:8080/"
        },
        "id": "NjkNJUDNqCZ2",
        "outputId": "1330aa40-9ca6-4a34-fa10-2070e421d7a4"
      },
      "source": [
        "print(a)"
      ],
      "execution_count": 5,
      "outputs": [
        {
          "output_type": "stream",
          "text": [
            "[1 2 3 4 5 6 7 8]\n"
          ],
          "name": "stdout"
        }
      ]
    },
    {
      "cell_type": "code",
      "metadata": {
        "id": "xZzNmR9dqEf-"
      },
      "source": [
        "b = a.reshape(2,2,2)"
      ],
      "execution_count": 6,
      "outputs": []
    },
    {
      "cell_type": "code",
      "metadata": {
        "colab": {
          "base_uri": "https://localhost:8080/"
        },
        "id": "Dt_uW_LbqLQc",
        "outputId": "c8969c5c-1aa9-48c7-bed1-d1c9cbacf4bd"
      },
      "source": [
        "print(b)"
      ],
      "execution_count": 7,
      "outputs": [
        {
          "output_type": "stream",
          "text": [
            "[[[1 2]\n",
            "  [3 4]]\n",
            "\n",
            " [[5 6]\n",
            "  [7 8]]]\n"
          ],
          "name": "stdout"
        }
      ]
    },
    {
      "cell_type": "code",
      "metadata": {
        "colab": {
          "base_uri": "https://localhost:8080/"
        },
        "id": "pQ7CyRIwrMje",
        "outputId": "28197ea7-0672-4d64-c61e-c674d7823421"
      },
      "source": [
        "b[0]"
      ],
      "execution_count": 9,
      "outputs": [
        {
          "output_type": "execute_result",
          "data": {
            "text/plain": [
              "array([[1, 2],\n",
              "       [3, 4]])"
            ]
          },
          "metadata": {
            "tags": []
          },
          "execution_count": 9
        }
      ]
    },
    {
      "cell_type": "code",
      "metadata": {
        "colab": {
          "base_uri": "https://localhost:8080/"
        },
        "id": "OHQ0Jij4rR-_",
        "outputId": "4584b1dd-0a52-48f7-bffc-117e74ea5a28"
      },
      "source": [
        "b[0][0,1]"
      ],
      "execution_count": 10,
      "outputs": [
        {
          "output_type": "execute_result",
          "data": {
            "text/plain": [
              "2"
            ]
          },
          "metadata": {
            "tags": []
          },
          "execution_count": 10
        }
      ]
    },
    {
      "cell_type": "markdown",
      "metadata": {
        "id": "cWm2h8zcrWFt"
      },
      "source": [
        "# **2. reshape에서 -1의 의미**"
      ]
    },
    {
      "cell_type": "markdown",
      "metadata": {
        "id": "_K7OoL0hruXf"
      },
      "source": [
        "reshape()의 ‘-1’이 의미하는 바는, 변경된 배열의 ‘-1’ 위치의 차원은 “원래 배열의 길이와 남은 차원으로 부터 추정”이 된다는 뜻이다."
      ]
    },
    {
      "cell_type": "code",
      "metadata": {
        "colab": {
          "base_uri": "https://localhost:8080/"
        },
        "id": "tepkqQhJrdOl",
        "outputId": "8a1c4e9d-e1f6-4b12-d833-5a4dc380cdba"
      },
      "source": [
        "x = np.arange(12)\r\n",
        "x = x.reshape(3,4)\r\n",
        "x"
      ],
      "execution_count": 11,
      "outputs": [
        {
          "output_type": "execute_result",
          "data": {
            "text/plain": [
              "array([[ 0,  1,  2,  3],\n",
              "       [ 4,  5,  6,  7],\n",
              "       [ 8,  9, 10, 11]])"
            ]
          },
          "metadata": {
            "tags": []
          },
          "execution_count": 11
        }
      ]
    },
    {
      "cell_type": "markdown",
      "metadata": {
        "id": "wrum4PaKrfN-"
      },
      "source": [
        "## **2-1. reshape(-1,정수) : 행의 위치에 -1인 경우**\r\n"
      ]
    },
    {
      "cell_type": "code",
      "metadata": {
        "colab": {
          "base_uri": "https://localhost:8080/"
        },
        "id": "USaUEJ0DrhkN",
        "outputId": "5d519c47-2d26-46ed-d89e-eb5f033a02e0"
      },
      "source": [
        "x.reshape(-1,1)"
      ],
      "execution_count": 12,
      "outputs": [
        {
          "output_type": "execute_result",
          "data": {
            "text/plain": [
              "array([[ 0],\n",
              "       [ 1],\n",
              "       [ 2],\n",
              "       [ 3],\n",
              "       [ 4],\n",
              "       [ 5],\n",
              "       [ 6],\n",
              "       [ 7],\n",
              "       [ 8],\n",
              "       [ 9],\n",
              "       [10],\n",
              "       [11]])"
            ]
          },
          "metadata": {
            "tags": []
          },
          "execution_count": 12
        }
      ]
    },
    {
      "cell_type": "code",
      "metadata": {
        "colab": {
          "base_uri": "https://localhost:8080/"
        },
        "id": "CGx-hyQ6rwzf",
        "outputId": "b1685c35-8f91-48c4-822d-de0207882d86"
      },
      "source": [
        "x.reshape(-1,2)"
      ],
      "execution_count": 13,
      "outputs": [
        {
          "output_type": "execute_result",
          "data": {
            "text/plain": [
              "array([[ 0,  1],\n",
              "       [ 2,  3],\n",
              "       [ 4,  5],\n",
              "       [ 6,  7],\n",
              "       [ 8,  9],\n",
              "       [10, 11]])"
            ]
          },
          "metadata": {
            "tags": []
          },
          "execution_count": 13
        }
      ]
    },
    {
      "cell_type": "code",
      "metadata": {
        "colab": {
          "base_uri": "https://localhost:8080/"
        },
        "id": "Kx-ZzKCQrzU-",
        "outputId": "f0e6c288-45d8-4b44-eaaa-fe513ba49400"
      },
      "source": [
        "x.reshape(-1,3)"
      ],
      "execution_count": 14,
      "outputs": [
        {
          "output_type": "execute_result",
          "data": {
            "text/plain": [
              "array([[ 0,  1,  2],\n",
              "       [ 3,  4,  5],\n",
              "       [ 6,  7,  8],\n",
              "       [ 9, 10, 11]])"
            ]
          },
          "metadata": {
            "tags": []
          },
          "execution_count": 14
        }
      ]
    },
    {
      "cell_type": "markdown",
      "metadata": {
        "id": "3Fholb8ur9ck"
      },
      "source": [
        "즉, 행(row)의 위치에 -1을 넣고 열의 값을 지정해주면 변환될 배열의 행의 수는 알아서 지정이 된다."
      ]
    },
    {
      "cell_type": "markdown",
      "metadata": {
        "id": "AkUxGWptsCxE"
      },
      "source": [
        "## **2-2. reshape(정수,-1) : 열의 위치에 -1인 경우**"
      ]
    },
    {
      "cell_type": "code",
      "metadata": {
        "colab": {
          "base_uri": "https://localhost:8080/"
        },
        "id": "r6UJMFltsIKU",
        "outputId": "904f2291-4055-4493-9072-42272ebe08da"
      },
      "source": [
        "x.reshape(1,-1)"
      ],
      "execution_count": 15,
      "outputs": [
        {
          "output_type": "execute_result",
          "data": {
            "text/plain": [
              "array([[ 0,  1,  2,  3,  4,  5,  6,  7,  8,  9, 10, 11]])"
            ]
          },
          "metadata": {
            "tags": []
          },
          "execution_count": 15
        }
      ]
    },
    {
      "cell_type": "code",
      "metadata": {
        "colab": {
          "base_uri": "https://localhost:8080/"
        },
        "id": "-6rlwguVsKRc",
        "outputId": "1c9a0f35-5a6b-4b02-9853-8064ac367a5e"
      },
      "source": [
        "x.reshape(2,-1)"
      ],
      "execution_count": 16,
      "outputs": [
        {
          "output_type": "execute_result",
          "data": {
            "text/plain": [
              "array([[ 0,  1,  2,  3,  4,  5],\n",
              "       [ 6,  7,  8,  9, 10, 11]])"
            ]
          },
          "metadata": {
            "tags": []
          },
          "execution_count": 16
        }
      ]
    },
    {
      "cell_type": "code",
      "metadata": {
        "colab": {
          "base_uri": "https://localhost:8080/"
        },
        "id": "wHPzj_sTsLtk",
        "outputId": "cd303ae3-5bdd-43d3-8707-f3447f881a80"
      },
      "source": [
        "x.reshape(3,-1)"
      ],
      "execution_count": 17,
      "outputs": [
        {
          "output_type": "execute_result",
          "data": {
            "text/plain": [
              "array([[ 0,  1,  2,  3],\n",
              "       [ 4,  5,  6,  7],\n",
              "       [ 8,  9, 10, 11]])"
            ]
          },
          "metadata": {
            "tags": []
          },
          "execution_count": 17
        }
      ]
    },
    {
      "cell_type": "code",
      "metadata": {
        "colab": {
          "base_uri": "https://localhost:8080/"
        },
        "id": "cW0yuZnXsOLZ",
        "outputId": "01773022-5719-45b3-ddaa-3033e771cffc"
      },
      "source": [
        "x.reshape(4,-1)"
      ],
      "execution_count": 18,
      "outputs": [
        {
          "output_type": "execute_result",
          "data": {
            "text/plain": [
              "array([[ 0,  1,  2],\n",
              "       [ 3,  4,  5],\n",
              "       [ 6,  7,  8],\n",
              "       [ 9, 10, 11]])"
            ]
          },
          "metadata": {
            "tags": []
          },
          "execution_count": 18
        }
      ]
    },
    {
      "cell_type": "markdown",
      "metadata": {
        "id": "gmD7oV1FsR5l"
      },
      "source": [
        "## **2-3. reshape(-1)인 경우**"
      ]
    },
    {
      "cell_type": "code",
      "metadata": {
        "colab": {
          "base_uri": "https://localhost:8080/"
        },
        "id": "2nfkdn1DsQMl",
        "outputId": "df86d73e-82ec-45c8-f30b-316c6e5e6448"
      },
      "source": [
        "x.reshape(-1)"
      ],
      "execution_count": 20,
      "outputs": [
        {
          "output_type": "execute_result",
          "data": {
            "text/plain": [
              "array([ 0,  1,  2,  3,  4,  5,  6,  7,  8,  9, 10, 11])"
            ]
          },
          "metadata": {
            "tags": []
          },
          "execution_count": 20
        }
      ]
    },
    {
      "cell_type": "code",
      "metadata": {
        "colab": {
          "base_uri": "https://localhost:8080/"
        },
        "id": "UYv2dZH6sX24",
        "outputId": "67d34012-b60b-469d-d0d6-e3291aad47a1"
      },
      "source": [
        "x.reshape(1,-1)"
      ],
      "execution_count": 21,
      "outputs": [
        {
          "output_type": "execute_result",
          "data": {
            "text/plain": [
              "array([[ 0,  1,  2,  3,  4,  5,  6,  7,  8,  9, 10, 11]])"
            ]
          },
          "metadata": {
            "tags": []
          },
          "execution_count": 21
        }
      ]
    },
    {
      "cell_type": "markdown",
      "metadata": {
        "id": "f0mHbji_saDf"
      },
      "source": [
        "-1만 들어가면 1차원 배열을 반환한다. 모양상 x.reshape(1,-1)과 같으나 이는 (1,12)인 2차원 배열이다.(대괄호의 수로 확인 가능하다.)"
      ]
    },
    {
      "cell_type": "markdown",
      "metadata": {
        "id": "8Ze8VoP8sdI-"
      },
      "source": [
        "출처 : https://yganalyst.github.io/data_handling/memo_5/"
      ]
    }
  ]
}